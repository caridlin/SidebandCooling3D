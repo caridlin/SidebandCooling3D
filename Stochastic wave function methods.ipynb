{
 "cells": [
  {
   "cell_type": "markdown",
   "metadata": {},
   "source": [
    "# Formalism"
   ]
  },
  {
   "cell_type": "markdown",
   "metadata": {},
   "source": [
    "The sideband cooling Hamiltonian in 3D is (in laser frame):\n",
    "\n",
    "$\\tilde{H}=\\hbar \\omega_x (a_x^{+}a_x + \\frac{1}{2}) + \\hbar \\omega_y (a_y^{+}a_y + \\frac{1}{2}) + \\hbar \\omega_z (a_z^{+}a_z + \\frac{1}{2})-\\hbar \\frac{\\delta}{2} \\sigma_z+ \\frac{\\hbar \\Omega_1}{2} (\\sigma_{+} {E_1}^{(-)}+\\sigma_{-}{E_1}^{(+)})+ \\frac{\\hbar \\Omega_2}{2} (\\sigma_{+} {E_2}^{(-)}+\\sigma_{-}{E_2}^{(+)}) + \\frac{\\hbar \\Omega_3}{2} (\\sigma_{+} {E_3}^{(-)}+\\sigma_{-}{E_3}^{(+)})$\n",
    "\n",
    "where $\\delta=\\omega_L-\\omega$ is the detuning, $x, y, z$ are coordinates, $1, 2, 3$ are along the k-vector of the three laser beams"
   ]
  },
  {
   "cell_type": "markdown",
   "metadata": {},
   "source": [
    "The transformed density matrix $\\tilde{\\rho}=U_C^+\\rho U_C$ satisfies the same master equation (Denote $\\tilde{\\rho}=\\rho$ in the following)\n",
    "\n",
    "$\\frac{d \\rho}{dt}=-\\frac{i}{\\hbar}[\\tilde{H}, \\rho]+L^d \\rho$\n",
    "\n",
    "where $L^d \\rho=\\frac{\\Gamma}{2}\\{ 2\\sigma^-  \\tilde{\\rho} \\sigma^+ -\\sigma^+ \\sigma^-  \\rho - \\rho \\sigma^+ \\sigma^- \\}$\n",
    "\n",
    "$\\tilde{\\rho} = \\frac{1}{2} \\int_{-1}^1 du Y(u) e^{i \\eta (a+a^+) u} \\rho e^{-i \\eta (a+a^+) u}$\n",
    "\n",
    "$Y(u)=\\frac{3}{4}(1+u)^2$ accounts for the angular distribution pattern of spontaneous emission for a dipole transition, $\\frac{1}{2} \\int_{-1}^1 du Y(u) = 1$. The integration direction is randomly chosen in space."
   ]
  },
  {
   "cell_type": "markdown",
   "metadata": {},
   "source": [
    "$H_{eff} = \\tilde{H} - i \\hbar \\frac{\\Gamma}{2}\\sigma^+ \\sigma$\n",
    "\n",
    "$\\frac{d \\rho}{dt}=-\\frac{i}{\\hbar}[\\tilde{H_{eff}}, \\rho]+ \\Gamma \\sigma^-  \\tilde{\\rho} \\sigma^+$\n",
    "\n",
    "we assume the wave functions are $\\mid \\Psi_{\\alpha} \\rangle$ ($\\alpha \\in \\{e, g, m, n\\}$)\n",
    "\n",
    "With the evolution of $H_{eff}$, the evolution is \n",
    "\n",
    "$\\mid \\Psi_{\\alpha}(t + \\delta t) \\rangle = (1 + \\frac{H_{eff} \\delta t }{i \\hbar}) \\mid \\Psi_{\\alpha}(t) \\rangle$\n",
    "\n",
    "the normalization decays as $1 - \\delta t \\Gamma \\langle \\Psi_{\\alpha} \\mid \\sigma^+ \\sigma \\mid \\Psi_{\\alpha} \\rangle$ (Jump probability $\\delta p_{\\alpha} =\\delta t \\Gamma \\langle \\Psi_{\\alpha} \\mid \\sigma^+ \\sigma \\mid \\Psi_{\\alpha} \\rangle$)\n",
    "\n",
    "Quantum jump to state\n",
    "\n",
    "$\\mid \\phi_{\\alpha} \\rangle = \\sigma^- e^{i \\eta (a+a^+) u}\\mid \\Psi_{\\alpha} \\rangle$\n",
    "\n",
    "with normalization $\\frac{\\delta p_{\\alpha}}{\\Gamma \\delta t}$\n",
    "\n",
    "The master equation is then\n",
    "\n",
    "$\\rho(t + \\delta t) = \\sum_{\\alpha} P_{\\alpha} (\\mid \\Psi_{\\alpha}(t + \\delta t) \\rangle \\langle \\Psi_{\\alpha}(t + \\delta t) \\mid + \\delta t \\Gamma \\mid \\phi_{\\alpha} \\rangle \\langle \\phi_{\\alpha} \\mid)$\n",
    "\n",
    "(Note here $P_{\\alpha}$ is the distribution of states, not jump probability $p_{\\alpha}$)"
   ]
  },
  {
   "cell_type": "markdown",
   "metadata": {},
   "source": [
    "# Algorithm"
   ]
  },
  {
   "cell_type": "markdown",
   "metadata": {},
   "source": [
    "1. Pick initial state $\\mid \\Psi_{\\alpha} \\rangle$\n",
    "\n",
    "2. Generate a random number $\\in [0, 1]$ \n",
    "\n",
    "3. Evolve $\\mid \\Psi_{\\alpha} \\rangle$ until $\\delta p_{\\alpha} > r$\n",
    "\n",
    "4. Then there is a quantum jump to $\\mid \\phi_{\\alpha} \\rangle$\n",
    "\n",
    "5. Repeat 1-4 N times to get a distribution of outcomes\n",
    "\n",
    "6. Repeat 1-5 for all possible initial states $\\mid \\Psi_{\\alpha} \\rangle$\n",
    "\n",
    "7. Combine to get the density matrix evolution"
   ]
  },
  {
   "cell_type": "code",
   "execution_count": null,
   "metadata": {},
   "outputs": [],
   "source": []
  }
 ],
 "metadata": {
  "kernelspec": {
   "display_name": "Python 2",
   "language": "python",
   "name": "python2"
  },
  "language_info": {
   "codemirror_mode": {
    "name": "ipython",
    "version": 2
   },
   "file_extension": ".py",
   "mimetype": "text/x-python",
   "name": "python",
   "nbconvert_exporter": "python",
   "pygments_lexer": "ipython2",
   "version": "2.7.10"
  }
 },
 "nbformat": 4,
 "nbformat_minor": 2
}
