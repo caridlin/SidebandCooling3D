{
 "cells": [
  {
   "cell_type": "code",
   "execution_count": 1,
   "metadata": {},
   "outputs": [],
   "source": [
    "from IPython.display import display\n",
    "\n",
    "from sympy.interactive import printing\n",
    "printing.init_printing(use_latex=True)\n",
    "\n",
    "from __future__ import division\n",
    "import sympy as sym\n",
    "from sympy import *\n",
    "\n",
    "%matplotlib inline\n",
    "from matplotlib import rc\n",
    "import matplotlib.pyplot as plt\n",
    "rc('font',**{'family':'serif','size'   : 12})"
   ]
  },
  {
   "cell_type": "code",
   "execution_count": 2,
   "metadata": {},
   "outputs": [],
   "source": [
    "from qutip import *"
   ]
  },
  {
   "cell_type": "markdown",
   "metadata": {},
   "source": [
    "# Several constants"
   ]
  },
  {
   "cell_type": "code",
   "execution_count": 3,
   "metadata": {},
   "outputs": [],
   "source": [
    "from __future__ import division, print_function, unicode_literals\n",
    "\n",
    "# Basic constants\n",
    "pi = 3.1415926\n",
    "c = 299792458\n",
    "h = 6.62606957e-34\n",
    "hbar = h / 2 / pi\n",
    "k_B = 1.3806488e-23\n",
    "m_e = 9.10938291e-31\n",
    "m_p = 1.672621898e-27\n",
    "mu_0 = 4e-7 * pi\n",
    "epsilon_0 = 1 / c**2 / mu_0\n",
    "E = 1.602176565e-19\n",
    "N_A = 6.02214129e+23\n",
    "\n",
    "\n",
    "# Mass of Sr-88, Sr-87, Sr-86, Sr-84\n",
    "M88 = 1.459706905272492E-25  \n",
    "M87 = 1.4431557366419E-25  \n",
    "M86 = 1.42655671117996E-25\n",
    "M84 = 1.3934150821E-25\n",
    "M = M88"
   ]
  },
  {
   "cell_type": "code",
   "execution_count": 4,
   "metadata": {},
   "outputs": [],
   "source": [
    "# For running wave the important parameter is the phase \n",
    "# Note that cooling can be extremely small for phi = 0 (antinode)\n",
    "from scipy.optimize import curve_fit\n",
    "\n",
    "def f(x, a, b, c):\n",
    "    return a * exp(-2 * pi * b * x) + c \n",
    "\n",
    "import timeit\n",
    "from numpy import linspace, arange, divide, sqrt, exp\n",
    "from scipy import stats\n",
    "\n",
    "Nx = 15   # Dimension of x-harmonic oscillator\n",
    "mx = 10\n",
    "Ny = 5  \n",
    "my = 2\n",
    "Nz = 5   \n",
    "mz = 2\n",
    "\n",
    "# Trapping frequencies along those axis\n",
    "omega_x = 2 * pi * 200  # In units of kHz\n",
    "omega_y = 2 * pi * 200  # In units of kHz\n",
    "omega_z = 2 * pi * 33   # In units of kHz\n",
    "\n",
    "# we assume a common delta for all three beams\n",
    "delta = -2 * pi * 200   # In units of kHz\n",
    "\n",
    "# Rabi frequencis for three beams\n",
    "omega_1 = 2 * pi * 50   # In units of kHz\n",
    "omega_2 = 2 * pi * 10000   # In units of kHz\n",
    "omega_3 = 2 * pi * 1000   # In units of kHz\n",
    "gamma = 2 * pi * 7      # In units of kHz\n",
    "\n",
    "# Lamb-Dicke parameter along those axis\n",
    "eta_x = 0.15\n",
    "eta_y = 0.15\n",
    "eta_z = 0.38\n",
    "g = basis(2,0)          # Ground state\n",
    "e = basis(2,1)          # Excited state\n",
    "x = fock(Nx, mx)        # x-harmonic oscillator\n",
    "y = fock(Ny, my)        # y-harmonic oscillator\n",
    "z = fock(Nz, mz)        # z-harmonic oscillator\n",
    "\n",
    "# Position in the standing waves\n",
    "phi_1 = 0.5 * pi\n",
    "phi_2 = 0.5 * pi\n",
    "phi_3 = 0.5 * pi\n",
    "\n",
    "# Recoil energy of the blue\n",
    "Recoil_461 = (hbar * 2 * pi / (461E-9)) ** 2 / (hbar * 2 * M88 * 1000)\n",
    "#print(Recoil_461)\n",
    "\n",
    "# Destruction operators in 3d\n",
    "a_x = tensor(destroy(Nx), qeye(Ny), qeye(Nz))\n",
    "a_y = tensor(qeye(Nx), destroy(Ny), qeye(Nz))\n",
    "a_z = tensor(qeye(Nx), qeye(Ny), destroy(Nz))\n",
    "eye_xyz = tensor(qeye(Nx), qeye(Ny), qeye(Nz))"
   ]
  },
  {
   "cell_type": "markdown",
   "metadata": {},
   "source": [
    "$\\tilde{H}= H_x + H_{yz}-\\hbar \\frac{\\bar{\\delta}}{2} \\sigma_z$\n",
    "\n",
    "$H_x = \\hbar \\omega_x (a_x^{+}a_x+\\frac{1}{2}) + \\hbar\\Omega_3 ( \\sigma_{+}cos(ik_3x + \\phi_{3})e^{-i(\\delta_3 - \\bar{\\delta})t} +h.c.)$\n",
    "\n",
    "$H_{yz} = \\hbar \\omega_y (a_y^{+}a_y+\\frac{1}{2}) + \\hbar \\omega_z (a_z^{+}a_z+\\frac{1}{2}) + \\hbar \\Omega_1 (\\sigma_{+} cos(k_1 (\\frac{\\sqrt{3}}{2} y -\\frac{1}{2} z)+ \\phi_{1}))e^{-i(\\delta_1 - \\bar{\\delta}) t} + h.c.) + \\hbar \\Omega_2 (\\sigma_{+}cos(k_2 (\\frac{-\\sqrt{3}}{2} y -\\frac{1}{2} z)+ \\phi_{2}))e^{-i(\\delta_2 - \\bar{\\delta}) t} + h.c.)$"
   ]
  },
  {
   "cell_type": "code",
   "execution_count": 5,
   "metadata": {},
   "outputs": [],
   "source": [
    "# H / hbar, otherwise too small, too many floats\n",
    "# Now the two Hamiltonians give different result, I trust the second one\n",
    "He = tensor(eye_xyz, 0.5 * delta * sigmaz())\n",
    "Hx = tensor(omega_x * (a_x.dag() * a_x + 0.5), qeye(2)) + omega_3 * 0.5 * (tensor((1j * (eta_x * (a_x + a_x.dag()) + phi_3)).expm() + (-1j * (eta_x * (a_x + a_x.dag()) + phi_3)).expm(), sigmax()))\n",
    "Hyz = tensor(omega_y * (a_y.dag() * a_y + 0.5), qeye(2)) + tensor(omega_z * (a_z.dag() * a_z + 0.5), qeye(2)) + omega_1 * 0.5 * (tensor((1j * (sqrt(3) / 2 * eta_y * (a_y + a_y.dag()) - 1 / 2 * eta_z * (a_z + a_z.dag()) + phi_1)).expm() + (-1j * (sqrt(3) / 2 * eta_y * (a_y + a_y.dag()) - 1 / 2 * eta_z * (a_z + a_z.dag()) + phi_1)).expm(), sigmax())) + omega_2 * 0.5 * (tensor((1j * (-1 * sqrt(3) / 2 * eta_y * (a_y + a_y.dag()) - 1 / 2 * eta_z * (a_z + a_z.dag()) + phi_2)).expm() + (-1j * (-1 * sqrt(3) / 2 * eta_y * (a_y + a_y.dag()) - 1 / 2 * eta_z * (a_z + a_z.dag()) + phi_2)).expm(), sigmax()))\n",
    "\n",
    "H = Hx + Hyz - He\n",
    "# Wavefunction in 3d, start from all in ground state\n",
    "psi0 = tensor(x, y, z, g)"
   ]
  },
  {
   "cell_type": "markdown",
   "metadata": {},
   "source": [
    "## Sampling isotropic distribution\n",
    "\n",
    "$p(\\theta, \\phi)d\\theta d\\phi = \\frac{d \\Omega}{4 \\pi} = \\frac{sin(\\theta) d\\theta}{2}\\frac{d\\phi}{2 \\pi} = p(\\theta) d\\theta p(\\phi)d\\phi $\n",
    "\n",
    "Define two random variables $u_1, u_2$ from uniform distribution $[0, 1]$, we then have\n",
    "\n",
    "$\\phi = 2 \\pi u_1$\n",
    "\n",
    "$cos(\\theta) = 1 - 2 u_2$\n",
    "\n",
    "Then we get the corresponding $x, y, z$ direction\n",
    "\n",
    "$\\frac{x}{r} = sin(\\theta) cos(\\phi)$\n",
    "\n",
    "$\\frac{y}{r} = sin(\\theta) sin(\\phi)$\n",
    "\n",
    "$\\frac{z}{r} = cos(\\theta) = 1 - 2 u_2$"
   ]
  },
  {
   "cell_type": "code",
   "execution_count": 6,
   "metadata": {},
   "outputs": [
    {
     "name": "stdout",
     "output_type": "stream",
     "text": [
      "[[-0.85881707165785759, -0.21171217903402287, -0.46648814634209984]]\n",
      "10.0%. Run time:  61.53s. Est. time left: 00:00:09:13\n",
      "20.0%. Run time:  62.24s. Est. time left: 00:00:04:08\n",
      "30.0%. Run time: 122.17s. Est. time left: 00:00:04:45\n",
      "40.0%. Run time: 122.39s. Est. time left: 00:00:03:03\n",
      "50.0%. Run time: 181.08s. Est. time left: 00:00:03:01\n",
      "60.0%. Run time: 181.38s. Est. time left: 00:00:02:00\n",
      "70.0%. Run time: 239.92s. Est. time left: 00:00:01:42\n",
      "80.0%. Run time: 240.54s. Est. time left: 00:00:01:00\n",
      "90.0%. Run time: 297.13s. Est. time left: 00:00:00:33\n",
      "100.0%. Run time: 297.93s. Est. time left: 00:00:00:00\n",
      "Total run time: 298.01s\n",
      "298.512971163\n"
     ]
    },
    {
     "data": {
      "image/png": "[encoded data removed]",
      "text/plain": [
       "<matplotlib.figure.Figure at 0x110821f90>"
      ]
     },
     "metadata": {},
     "output_type": "display_data"
    }
   ],
   "source": [
    "# Now exact solver can't do anything but the Monte Carlo solver is efficient\n",
    "# Can try the Fortran based Monte Carlo solver\n",
    "# By default, mcsolve average over 500 trajectories\n",
    "# Randomly generate u_1 and u_2 from isotropic distribution\n",
    "from numpy.random import uniform\n",
    "from numpy import cos, sin, arccos, arcsin\n",
    "def Isotropic(N_iter):\n",
    "    u = []\n",
    "    for i in range(N_iter):\n",
    "        u1 = uniform(0, 1)\n",
    "        u2 = uniform(0, 1)\n",
    "        phi = 2 * pi * u1\n",
    "        theta = arccos(1 - 2 * u2)\n",
    "        u.append([sin(theta) * cos(phi), sin(theta) * sin(phi), cos(theta)])\n",
    "    return u\n",
    "\n",
    "dt = 1    # Time length\n",
    "times = linspace(0.0, dt, 1000)\n",
    "# N_iter = [1, 5, 10, 20]\n",
    "# N_iter = [1, 5]\n",
    "N_iter = [1]\n",
    "\n",
    "import matplotlib.gridspec as gridspec\n",
    "figure = plt.figure(figsize=(7, 6))\n",
    "gs = gridspec.GridSpec(1, 1)\n",
    "gs.update(wspace=0.3,hspace=0.4)\n",
    "ax1 = plt.subplot(gs[0,0]) \n",
    "start = timeit.default_timer()\n",
    "\n",
    "for N_iter_ in N_iter:\n",
    "    u = Isotropic(N_iter_)\n",
    "    print(u) \n",
    "    result = mcsolve(H, psi0, times, [sqrt(gamma) / sqrt(N_iter_) * tensor((1j * (u[i][0] * eta_x * (a_x + a_x.dag()) + u[i][1] * eta_y * (a_y + a_y.dag()) + u[i][2] * eta_z * (a_z + a_z.dag()))).expm(), sigmam()) for i in range(N_iter_)], [tensor(a_x.dag() * a_x, qeye(2)), tensor(a_y.dag() * a_y, qeye(2)), tensor(a_z.dag() * a_z, qeye(2))], 10)\n",
    "    ax1.plot(result.times, result.expect[0], label = '$N_x, N_{iter} = %d$' % (N_iter_), linewidth = 2, linestyle = '-');\n",
    "    ax1.plot(result.times, result.expect[1], label = '$N_y, N_{iter} = %d$' % (N_iter_), linewidth = 2, linestyle = '-');\n",
    "    ax1.plot(result.times, result.expect[2], label = '$N_z, N_{iter} = %d$' % (N_iter_), linewidth = 2, linestyle = '-');\n",
    "    # popt, pcov = curve_fit(f, result.times[: 500], result.expect[0][: 500])\n",
    "    # avg_fit = f(times, *popt)\n",
    "    # print(pcov)\n",
    "    # ax1.plot(times, avg_fit, label = r'Fit, $N_{iter} = %d$, initial cooling rate $\\frac{dn}{dt} = %.2f kHz$' % (N_iter_, popt[0] * popt[1]), linewidth = 2, linestyle = '--');\n",
    "    stop = timeit.default_timer()\n",
    "    print(stop - start)     # Time spent in seconds\n",
    "    \n",
    "ax1.set_xlabel(\"$t (ms)$\")\n",
    "ax1.set_ylabel(r\"$\\langle n \\rangle$\")\n",
    "#ax1.legend(loc = 1)\n",
    "ax1.legend(loc='upper center', bbox_to_anchor=(0.5, -0.1),  ncol = 2)\n",
    "ax1.set_title('Sideband cooling 3D SW\\n'+\n",
    "          '$\\eta_x = %.2f, \\eta_y = %.2f, \\eta_z = %.2f, \\Omega_1 = 2\\pi %d$ kHz, $\\Omega_2 = 2\\pi %d$ kHz, $\\Omega_3 = 2\\pi %d$ kHz, \\n $\\omega_x = 2\\pi %d$ kHz, $\\omega_y = 2\\pi %d$ kHz, $\\omega_z = 2\\pi %d$ kHz,  $\\delta / \\omega_x = %.1f, \\delta / \\omega_y = %.1f, \\delta / \\omega_z = %.1f$, \\n $m_x=%d, m_y = %d, m_z=%d, N_x=%d, N_y=%d, N_z=%d$' % (eta_x, eta_y, eta_z, omega_1 / (2 * pi), omega_2 / (2 * pi), omega_3 / (2 * pi), omega_x / (2 * pi), omega_y / (2 * pi), omega_z / (2 * pi), delta / omega_x, delta / omega_y, delta / omega_z, mx, my, mz, Nx, Ny, Nz)\n",
    "            + '\\n $E_{r, 461} \\sim 2\\pi %.2f kHz$' % (Recoil_461 / (2 * pi)))\n",
    "ax1.grid(1)\n",
    "#plt.savefig('Sideband_cooling_1D_RW_1.svg')"
   ]
  },
  {
   "cell_type": "code",
   "execution_count": null,
   "metadata": {},
   "outputs": [],
   "source": []
  }
 ],
 "metadata": {
  "kernelspec": {
   "display_name": "Python 2",
   "language": "python",
   "name": "python2"
  },
  "language_info": {
   "codemirror_mode": {
    "name": "ipython",
    "version": 2
   },
   "file_extension": ".py",
   "mimetype": "text/x-python",
   "name": "python",
   "nbconvert_exporter": "python",
   "pygments_lexer": "ipython2",
   "version": "2.7.10"
  }
 },
 "nbformat": 4,
 "nbformat_minor": 2
}
