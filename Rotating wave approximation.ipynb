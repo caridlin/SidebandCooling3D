{
 "cells": [
  {
   "cell_type": "markdown",
   "metadata": {},
   "source": [
    "To carefully understand the Hamiltonian in 3d."
   ]
  },
  {
   "cell_type": "markdown",
   "metadata": {},
   "source": [
    "## Motinoal Hamiltonian: \n",
    "\n",
    "$H^{(m)} = \\frac{P^2}{2m} + U(x, y, z) = \\hbar \\omega_x (a_x^{+}a_x + \\frac{1}{2}) + \\hbar \\omega_y (a_y^{+}a_y + \\frac{1}{2}) + \\hbar \\omega_z (a_z^{+}a_z + \\frac{1}{2})$\n",
    "\n",
    "## Internal Hamiltonian:\n",
    "\n",
    "$H^{(e)}=\\hbar \\frac{\\omega}{2} \\sigma_z$\n",
    "\n",
    "## Interaction Hamiltonian:\n",
    "\n",
    "In Schroedinger picture:\n",
    "\n",
    "$H^{(i)}= e{\\bf r \\cdot E} = e{\\bf r}\\cdot({\\bf E_1 + E_2 + E_3})$\n",
    "\n",
    "where $e = -|e|$, ${\\bf r}$ is the direction of the induced dipole and each of the laser field can be written as\n",
    "\n",
    "${\\bf E_1} = \\frac{1}{2}E_1{\\bf\\varepsilon_{11}}\\{e^{i(k_1r - \\omega_1 t + \\phi_{11})} + e^{-i(k_1r - \\omega_1 t + \\phi_{11})}\\} + \\frac{1}{2}E_1 {\\bf\\varepsilon_{12}}\\{e^{i(-k_1r - \\omega_1 t + \\phi_{12})} + e^{-i(-k_1r + \\omega_1 t + \\phi_{12})}\\}$\n",
    "\n",
    "where we assume ${\\bf k_2} = - {\\bf k_1}$ for the back reflected beam, ${\\bf \\varepsilon_{11}}$ and ${\\bf\\varepsilon_{12}}$ are the polarization vectors for the two beams.\n",
    "\n",
    "\n",
    "We should notice that although in general ${\\bf r \\cdot \\varepsilon}$ can in general be decomposed in spherical tensors and induce $^1S_0$ to three different $m_J$ states of $^3P_1$, we already make the assumption that only $\\pi$ transition is magic and can be sideband cooled due to the different polarizabilities. Then\n",
    "\n",
    "$E_1 = \\frac{1}{2}E_1\\{e^{i(k_1r - \\omega_1 t + \\phi_{11})} + e^{-i(k_1r - \\omega_1 t + \\phi_{11})} + e^{i(-k_1r - \\omega_1 t + \\phi_{12})} + e^{-i(-k_1r + \\omega_1 t + \\phi_{12})}\\}$\n",
    "\n",
    "and\n",
    "\n",
    "$H^{(i)}= d  (\\mid g\\rangle\\langle e\\mid+\\mid e\\rangle\\langle g\\mid)\\cdot( E_1 + E_2 + E_3) = \\frac{\\hbar}{2} (\\sigma_{+} +\\sigma_{-})(\\Omega_1 E_1 + \\Omega_2 E_2 + \\Omega_3 E_3) = \\frac{\\hbar}{2} (\\sigma_{+} +\\sigma_{-})(\\Omega_1 (E_1^{(-)}e^{i\\omega_1 t} + E_1^{(+)}e^{-i\\omega_1 t}) + \\Omega_2 (E_2^{(-)}e^{i\\omega_2 t} + E_2^{(+)}e^{-i\\omega_2 t}) + \\Omega_3 (E_3^{(-)} e^{i\\omega_3 t}+ E_3^{(+)}e^{-i\\omega_3 t}))$\n",
    "\n",
    "## Rotating wave approximation\n",
    "\n",
    "In the laser1 frame $\\omega_1$, the unitary transformation is given by $U_1=e^{-i\\frac{\\omega_1}{2} \\sigma_z t}$. The transformed Hamiltonian is\n",
    "\n",
    "$\\tilde{H}=U_1^+HU_1-\\hbar \\frac{\\omega_1}{2} \\sigma_z = \\sum_i\\hbar \\omega_i (a_i^{+}a_i+\\frac{1}{2})-\\hbar \\frac{\\delta_1}{2} \\sigma_z+ \\frac{\\hbar }{2}  (\\sigma_{+}e^{i\\omega_1 t} +\\sigma_{-}e{-i\\omega_1 t})(\\Omega_1 (E_1^{(-)}e^{i\\omega_1 t} + E_1^{(+)}e^{-i\\omega_1 t}) + \\Omega_2 (E_2^{(-)}e^{i\\omega_2 t} + E_2^{(+)}e^{-i\\omega_2 t}) + \\Omega_3 (E_3^{(-)} e^{i\\omega_3 t}+ E_3^{(+)}e^{-i\\omega_3 t}))$\n",
    "\n",
    "Use rotating wave approximation, this is \n",
    "\n",
    "$\\tilde{H}=\\sum_i\\hbar \\omega_i (a_i^{+}a_i+\\frac{1}{2})-\\hbar \\frac{\\delta_1}{2} \\sigma_z+  \\frac{\\hbar}{2} (\\Omega_1 (\\sigma_{-}E_1^{(-)} + \\sigma_{+} E_1^{(+)}) + \\Omega_2 (\\sigma_{-}E_2^{(-)}e^{i(\\omega_2 - \\omega_1) t} + \\sigma_{+}E_2^{(+)}e^{-i(\\omega_2 - \\omega_1) t}) + \\Omega_3 (\\sigma_{-}E_3^{(-)} e^{i(\\omega_3 - \\omega_1) t}+ \\sigma_{+}E_3^{(+)}e^{-i(\\omega_3 - \\omega_1)t}))$\n",
    "\n",
    "Or\n",
    "\n",
    "$\\tilde{H}=\\sum_i\\hbar \\omega_i (a_i^{+}a_i+\\frac{1}{2})-\\hbar \\frac{\\delta_1}{2} \\sigma_z+ \\frac{\\hbar}{2} (\\Omega_1 (\\sigma_{-}E_1^{(-)} + \\sigma_{+} E_1^{(+)}) + \\Omega_2 (\\sigma_{-}E_2^{(-)}e^{i(\\delta_2 - \\delta_1) t} + \\sigma_{+}E_2^{(+)}e^{-i(\\delta_2 - \\delta_1) t}) + \\Omega_3 (\\sigma_{-}E_3^{(-)} e^{i(\\delta_3 - \\delta_1) t}+ \\sigma_{+}E_3^{(+)}e^{-i(\\delta_3 - \\delta_1)t}))$\n",
    "\n",
    "\n",
    "## More symmetric rotating wave approximation\n",
    "\n",
    "To laser frame $\\bar{\\omega} = \\frac{1}{3}(\\omega_1 + \\omega_2 + \\omega_3)$, we have after RWA\n",
    "\n",
    "$\\tilde{H}=\\sum_i\\hbar \\omega_i (a_i^{+}a_i+\\frac{1}{2})-\\hbar \\frac{\\bar{\\delta}}{2} \\sigma_z+ \\frac{\\hbar}{2} (\\Omega_1 (\\sigma_{-}E_1^{(-)}e^{i(\\delta_1 - \\bar{\\delta}) t} + \\sigma_{+} E_1^{(+)}e^{-i(\\delta_1 - \\bar{\\delta}) t}) + \\Omega_2 (\\sigma_{-}E_2^{(-)}e^{i(\\delta_2 - \\bar{\\delta}) t} + \\sigma_{+}E_2^{(+)}e^{-i(\\delta_2 - \\bar{\\delta}) t}) + \\Omega_3 (\\sigma_{-}E_3^{(-)} e^{i(\\delta_3 - \\bar{\\delta}) t}+ \\sigma_{+}E_3^{(+)}e^{-i(\\delta_3 - \\bar{\\delta})t}))$"
   ]
  },
  {
   "cell_type": "markdown",
   "metadata": {},
   "source": [
    "## Beam configuration\n",
    "\n",
    "We define the xyz axis as:\n",
    "\n",
    "x: perpendicular to the galss cell\n",
    "\n",
    "y: along the glass cell\n",
    "\n",
    "z: along the objective (and gravity)\n",
    "\n",
    "\n",
    "If we want to use three MOT beams for sideband cooling:\n",
    "\n",
    "${\\bf k_1} = \\frac{\\sqrt{3}}{2} {\\bf j} - \\frac{1}{2} {\\bf k}$\n",
    "\n",
    "${\\bf k_2} = -\\frac{\\sqrt{3}}{2} {\\bf j} - \\frac{1}{2} {\\bf k}$\n",
    "\n",
    "${\\bf k_3} = {\\bf i}$\n",
    "\n",
    "\n",
    "Then we have \n",
    "\n",
    "\n",
    "$\\tilde{H}= H_x + H_{yz}-\\hbar \\frac{\\bar{\\delta}}{2} \\sigma_z$\n",
    "\n",
    "where \n",
    "\n",
    "$H_x = \\hbar \\omega_x (a_x^{+}a_x+\\frac{1}{2}) + \\frac{\\hbar}{2} \\Omega_3 ( \\sigma_{+}(e^{ik_3x + \\phi_{31}} + e^{-ik_3x + \\phi_{32}})e^{-i(\\delta_3 - \\bar{\\delta})t} +h.c.)$\n",
    "\n",
    "$H_{yz} = \\hbar \\omega_y (a_y^{+}a_y+\\frac{1}{2}) + \\hbar \\omega_z (a_z^{+}a_z+\\frac{1}{2}) + \\frac{\\hbar}{2} \\Omega_1 (\\sigma_{+} (e^{ik_1 (\\frac{\\sqrt{3}}{2} y -\\frac{1}{2} z)+ \\phi_{11}} + e^{-ik_1 (\\frac{\\sqrt{3}}{2} y -\\frac{1}{2} z) + \\phi_{12}})e^{-i(\\delta_1 - \\bar{\\delta}) t} + h.c.) + \\frac{\\hbar}{2} \\Omega_2 (\\sigma_{+}(e^{ik_2 (\\frac{-\\sqrt{3}}{2} y -\\frac{1}{2} z)+ \\phi_{21}} + e^{-ik_2 (\\frac{-\\sqrt{3}}{2} y -\\frac{1}{2} z) + \\phi_{22}})e^{-i(\\delta_2 - \\bar{\\delta}) t} + h.c.)$\n",
    "\n",
    "By choosing an appropriate phase, we have:\n",
    "\n",
    "$H_x = \\hbar \\omega_x (a_x^{+}a_x+\\frac{1}{2}) + \\hbar\\Omega_3 ( \\sigma_{+}cos(ik_3x + \\phi_{3})e^{-i(\\delta_3 - \\bar{\\delta})t} +h.c.)$\n",
    "\n",
    "$H_{yz} = \\hbar \\omega_y (a_y^{+}a_y+\\frac{1}{2}) + \\hbar \\omega_z (a_z^{+}a_z+\\frac{1}{2}) + \\hbar \\Omega_1 (\\sigma_{+} cos(k_1 (\\frac{\\sqrt{3}}{2} y -\\frac{1}{2} z)+ \\phi_{1}))e^{-i(\\delta_1 - \\bar{\\delta}) t} + h.c.) + \\hbar \\Omega_2 (\\sigma_{+}cos(k_2 (\\frac{-\\sqrt{3}}{2} y -\\frac{1}{2} z)+ \\phi_{2}))e^{-i(\\delta_2 - \\bar{\\delta}) t} + h.c.)$"
   ]
  },
  {
   "cell_type": "code",
   "execution_count": null,
   "metadata": {},
   "outputs": [],
   "source": []
  }
 ],
 "metadata": {
  "kernelspec": {
   "display_name": "Python 2",
   "language": "python",
   "name": "python2"
  },
  "language_info": {
   "codemirror_mode": {
    "name": "ipython",
    "version": 2
   },
   "file_extension": ".py",
   "mimetype": "text/x-python",
   "name": "python",
   "nbconvert_exporter": "python",
   "pygments_lexer": "ipython2",
   "version": "2.7.10"
  }
 },
 "nbformat": 4,
 "nbformat_minor": 2
}
